{
 "cells": [
  {
   "cell_type": "code",
   "execution_count": null,
   "id": "95b34a22-4708-4ac6-9952-4b8b7cc992cc",
   "metadata": {},
   "outputs": [],
   "source": [
    "import numpy as np\n",
    "import matplotlib.pyplot as plt\n",
    "\n",
    "from src.data_generator import generate_data_from_csv\n",
    "from src.train_tree import train_tree\n",
    "from src.interpret_tree import interpret_tree\n",
    "\n",
    "from sklearn.model_selection import train_test_split\n",
    "from sklearn.metrics import f1_score, classification_report\n",
    "from sklearn.tree import plot_tree"
   ]
  },
  {
   "cell_type": "code",
   "execution_count": null,
   "id": "1e676cd8-f518-4cfa-a038-7195ac03297d",
   "metadata": {},
   "outputs": [],
   "source": [
    "feature_names, morph_list, X, y, error_rate = generate_data_from_csv(\n",
    "    \"data/English_pronouns.csv\",\n",
    "    accuracy_rate=0.95,\n",
    "    n=10000\n",
    ")\n",
    "\n",
    "print(\"Feature names:\", feature_names)\n",
    "print(\"Unique morphs:\", morph_list)\n",
    "print(\"Proportion of errors in synthetic data:\", error_rate)"
   ]
  },
  {
   "cell_type": "code",
   "execution_count": null,
   "id": "8a6c46ec-2acd-47d9-b95c-10234ca3bca3",
   "metadata": {},
   "outputs": [],
   "source": [
    "X_train, X_test, y_train, y_test = train_test_split(\n",
    "    X, y, test_size=0.2, stratify=y, random_state=0\n",
    ")\n",
    "\n",
    "clf = train_and_evaluate_decision_tree(X_train, y_train, min_imp_dec=0.01)\n",
    "\n",
    "y_pred = clf.predict(X_test)\n",
    "print(\"\\nTest macro F1 score:\", f1_score(y_test, y_pred, average=\"macro\"))\n",
    "print(\"\\nClassification report:\\n\", classification_report(y_test, y_pred))"
   ]
  },
  {
   "cell_type": "code",
   "execution_count": null,
   "id": "c1a39ad6-6b3d-417b-b0bc-428ca15f452e",
   "metadata": {},
   "outputs": [],
   "source": [
    "plt.figure(figsize=(20,20))\n",
    "plot_tree(\n",
    "    clf,\n",
    "    feature_names=feature_names,\n",
    "    class_names=np.unique(y),\n",
    "    filled=True,\n",
    "    rounded=True,\n",
    "    fontsize=8,\n",
    "    impurity=True\n",
    ")\n",
    "plt.show()"
   ]
  },
  {
   "cell_type": "code",
   "execution_count": null,
   "id": "8cc3ee82-0a44-4523-b434-6efa8d440634",
   "metadata": {},
   "outputs": [],
   "source": [
    "specifications = interpret_decision_tree(clf, feature_names)\n",
    "\n",
    "print(\"Extracted morphological rules:\")\n",
    "for spec in specifications:\n",
    "    print(spec)"
   ]
  }
 ],
 "metadata": {
  "kernelspec": {
   "display_name": "Python 3 (ipykernel)",
   "language": "python",
   "name": "python3"
  },
  "language_info": {
   "codemirror_mode": {
    "name": "ipython",
    "version": 3
   },
   "file_extension": ".py",
   "mimetype": "text/x-python",
   "name": "python",
   "nbconvert_exporter": "python",
   "pygments_lexer": "ipython3",
   "version": "3.13.7"
  }
 },
 "nbformat": 4,
 "nbformat_minor": 5
}
